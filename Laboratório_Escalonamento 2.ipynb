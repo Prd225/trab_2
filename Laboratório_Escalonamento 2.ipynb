{
 "cells": [
  {
   "cell_type": "markdown",
   "metadata": {
    "colab_type": "text",
    "id": "t1B1lQ1sXJKr"
   },
   "source": [
    "### Laboratorio de Escalonamento ###\n",
    "\n",
    "Neste laboratório, iremos simular o funcionamento de algoritmos de escalonamento básicos para entender melhor seu funcionamento.\n",
    "\n",
    "Na célula abaixo, temos uma classe Processo, que tem as informações de execução, e uma classe de exemplo de escalonamento apenas com os protótipos:\n",
    "\n",
    "(orientação a objeto em Python)"
   ]
  },
  {
   "cell_type": "markdown",
   "metadata": {
    "colab_type": "text",
    "id": "14846ZyfXJKx"
   },
   "source": [
    "Na célula abaixo, são criados quatro processos completamente CPU-Bound que precisam de 3 timeslices para rodar.\n",
    "\n",
    "O valor de E/S é um número entre 0 e 100 indicando quantos porcento de chance o processo tem de fazer E/S durante seu tempo na CPU"
   ]
  },
  {
   "cell_type": "code",
   "execution_count": 31,
   "metadata": {
    "colab": {},
    "colab_type": "code",
    "id": "CKLCRHZhXJKs"
   },
   "outputs": [],
   "source": [
    "import numpy as np\n",
    "\n",
    "import random\n",
    "\n",
    "class Processo(object):\n",
    "    def __init__(self,pnome,pio,ptam,prioridade,tempoChegada,bilhetes=0):\n",
    "        self.nome = pnome\n",
    "        self.io = pio # Probabilidade de fazer E/S, inicialmente zero\n",
    "        self.tam = ptam # Quantos Timeslices sao necessarios para terminar\n",
    "        self.prio = prioridade # Prioridade, eh desnecessaria agora \n",
    "        self.chegada = 0\n",
    "        self.bilhetes = bilhetes\n",
    "        self.stride = 0\n",
    "        self.passadas = 0\n",
    "        \n",
    "        \n",
    "    def roda(self,quantum=None): # se rodar sem quantum, o processor roda ate o fim\n",
    "        if(random.randint(1,100)<self.io): #Verifica se fez E/S\n",
    "            self.tam-=1\n",
    "            print(self.nome,\" fez e/s, falta \",self.tam)\n",
    "            return 1, True #True que fez E/S\n",
    "            \n",
    "            \n",
    "        if(quantum is None or self.tam<quantum):\n",
    "            quantum = self.tam\n",
    "        self.tam -=quantum\n",
    "        print(self.nome,\" rodou por \",quantum,\" timeslice, faltam \",self.tam)\n",
    "        return quantum, False # False se nao fez E/S\n",
    "   \n"
   ]
  },
  {
   "cell_type": "code",
   "execution_count": 32,
   "metadata": {},
   "outputs": [],
   "source": [
    "#Montando o escalonador Round-robin\n",
    "\n",
    "class round_robin(object):\n",
    "    \n",
    "    def __init__(self,vprontos=[]):\n",
    "        self.prontos = vprontos #processos que chegam ao tempo zero\n",
    "        \n",
    "    def pronto(self,Processo):\n",
    "        # implemente aqui o que escalonador faz quando surge um novo processo pronto\n",
    "        self.prontos.append(Processo) #vai colocar o processo pronto no ultimo elemento do meu vetor\n",
    "    \n",
    "    def proximo(self):\n",
    "        # implemente aqui a politica de escalonamento para definir um processo a ser executado\n",
    "        \n",
    "        return self.prontos.pop(0) \n"
   ]
  },
  {
   "cell_type": "code",
   "execution_count": 33,
   "metadata": {},
   "outputs": [],
   "source": [
    "class escalonador_Loteria(object):\n",
    "    \n",
    "    def __init__(self,vprontos=[]):\n",
    "        self.prontos = sorted(vprontos,key=lambda p:p.bilhetes, reverse=True)#vai ordenar decresente do maior bilhete para o menor \n",
    "    \n",
    "    def pronto(self,Processo):\n",
    "        self.prontos.append(Processo)#vai colocar o bilhete na fila\n",
    "        self.prontos = sorted(self.prontos,key=lambda p:p.bilhetes, reverse=True)#depois que ele colocar ele vai ordenar \n",
    "        \n",
    "    def proximo(self):\n",
    "        total = 0\n",
    "        for i in range(len(self.prontos)):\n",
    "            total += self.prontos[i].bilhetes #vai pegar o total de bilhetes \n",
    "        \n",
    "        acon = 0 #vai acomular os processos que ainda nao esta na rodando \n",
    "        random2 = random.randrange(total)#vai pegar o valor aleatorio com base total de bilhetes \n",
    "        \n",
    "        for j in range(len(self.prontos)):\n",
    "            \n",
    "            if random2 < self.prontos[j].bilhetes + acon:\n",
    "                return self.prontos.pop(j)#vai rodar o processo e tira na fila\n",
    "            else:\n",
    "                acon += self.prontos[j].bilhetes #vai acomular os processos que nao foi escolhido \n",
    "        "
   ]
  },
  {
   "cell_type": "code",
   "execution_count": 52,
   "metadata": {},
   "outputs": [],
   "source": [
    "\n",
    "class escalonador_stride(object):\n",
    "    \n",
    "    def __init__(self,vprontos=[]):\n",
    "        self.prontos = vprontos\n",
    "        \n",
    "    def pronto(self,Processo):\n",
    "        self.prontos.append(Processo)\n",
    "        \n",
    "    def proximo(self):\n",
    "        \n",
    "        total = 0\n",
    "        for i in range(len(self.prontos)):\n",
    "            total += self.prontos[i].bilhetes #vai pegar o total de bilhetes \n",
    "        \n",
    "        global2 = total * 2\n",
    "        \n",
    "        for j in range(len(self.prontos)):\n",
    "            self.prontos[j].stride = global2/self.prontos[j].bilhetes #vou dividir pela minha variavel global para ter o tamanho das minhas passadas\n",
    "     \n",
    "        menor = 0\n",
    "        \n",
    "        for k in range(1, len(self.prontos)):\n",
    "            if((self.prontos[k].passadas * self.prontos[k].stride) < (self.prontos[menor].passadas * self.prontos[menor].stride)):\n",
    "                menor = k \n",
    "                \n",
    "        self.prontos[menor].passadas += 1\n",
    "        \n",
    "        return self.prontos.pop(menor)\n"
   ]
  },
  {
   "cell_type": "code",
   "execution_count": 53,
   "metadata": {
    "colab": {},
    "colab_type": "code",
    "id": "Rc4wVHA4XJKx"
   },
   "outputs": [],
   "source": [
    "nprocs = 4\n",
    "nomes = ['A','B','C','D']\n",
    "chanceio = [0,0,0,0] #Valor de zero a cem, chance de ser entrada e saida por enquanto deixem em zero\n",
    "tamanho = np.array([15,15,15,15])\n",
    "\n",
    "bilhetes =  [1,2,4,8] \n",
    "\n",
    "\n",
    "total = tamanho.sum()\n",
    "\n",
    "procs = []\n",
    "for i in range(nprocs):\n",
    "    procs.append(Processo(nomes[i],chanceio[i],tamanho[i],0,0,bilhetes[i])) #cria uma lista procs de Processos\n",
    "    "
   ]
  },
  {
   "cell_type": "markdown",
   "metadata": {
    "colab_type": "text",
    "id": "VkfIM_1iXJK0"
   },
   "source": [
    "Na célula abaixo, temos o mesmo simulador do laboratório anterior:"
   ]
  },
  {
   "cell_type": "code",
   "execution_count": 54,
   "metadata": {},
   "outputs": [
    {
     "name": "stdout",
     "output_type": "stream",
     "text": [
      "A  rodou por  5  timeslice, faltam  10\n",
      "B  rodou por  5  timeslice, faltam  10\n",
      "C  rodou por  5  timeslice, faltam  10\n",
      "D  rodou por  5  timeslice, faltam  10\n",
      "D  rodou por  5  timeslice, faltam  5\n",
      "C  rodou por  5  timeslice, faltam  5\n",
      "D  rodou por  5  timeslice, faltam  0\n",
      "B  rodou por  5  timeslice, faltam  5\n",
      "C  rodou por  5  timeslice, faltam  0\n",
      "A  rodou por  5  timeslice, faltam  5\n",
      "B  rodou por  5  timeslice, faltam  0\n",
      "A  rodou por  5  timeslice, faltam  0\n"
     ]
    }
   ],
   "source": [
    "quantum = 5\n",
    "tempoBloq = 1\n",
    "\n",
    "escalonador = escalonador_stride(procs) #troque escalonador pelo seu escalonador\n",
    "bloqueados = []\n",
    "\n",
    "tempo = 0\n",
    "\n",
    "random.seed(0)\n",
    "\n",
    "while total>0:\n",
    "    p = escalonador.proximo()\n",
    "    if(p is not None):\n",
    "        rodou, _ = p.roda(quantum) #adicione quantum como parâmetro, por enquanto nao temos E/S\n",
    "        \n",
    "        if(p.tam>0):\n",
    "            escalonador.pronto(p)\n",
    "        total-=rodou\n",
    "        \n",
    "        tempo+=rodou\n",
    "    else:\n",
    "        #Reduz o tempo de todos os bloqueados em uma unidade se nao havia ninguem pronto\n",
    "        tempo+=1\n"
   ]
  },
  {
   "cell_type": "markdown",
   "metadata": {},
   "source": [
    "Nesta, temos um simulador avançado, com E/S e novos processos chegando em momentos diferentes:"
   ]
  },
  {
   "cell_type": "code",
   "execution_count": 1,
   "metadata": {
    "colab": {},
    "colab_type": "code",
    "id": "7LPgBMrXXJK1"
   },
   "outputs": [
    {
     "ename": "NameError",
     "evalue": "name 'round_robin' is not defined",
     "output_type": "error",
     "traceback": [
      "\u001b[0;31m---------------------------------------------------------------------------\u001b[0m",
      "\u001b[0;31mNameError\u001b[0m                                 Traceback (most recent call last)",
      "Cell \u001b[0;32mIn[1], line 4\u001b[0m\n\u001b[1;32m      1\u001b[0m quantum \u001b[38;5;241m=\u001b[39m \u001b[38;5;241m2\u001b[39m\n\u001b[1;32m      2\u001b[0m tempoBloq \u001b[38;5;241m=\u001b[39m \u001b[38;5;241m2\u001b[39m\n\u001b[0;32m----> 4\u001b[0m escalonador \u001b[38;5;241m=\u001b[39m \u001b[43mround_robin\u001b[49m([])\n\u001b[1;32m      5\u001b[0m bloqueados \u001b[38;5;241m=\u001b[39m []\n\u001b[1;32m      8\u001b[0m maximo \u001b[38;5;241m=\u001b[39m \u001b[38;5;241m10\u001b[39m\n",
      "\u001b[0;31mNameError\u001b[0m: name 'round_robin' is not defined"
     ]
    }
   ],
   "source": [
    "quantum = 2\n",
    "tempoBloq = 2\n",
    "\n",
    "escalonador = round_robin([])\n",
    "bloqueados = []\n",
    "\n",
    "\n",
    "maximo = 10\n",
    "chanceNovoProcesso = 60\n",
    "chanceIo = 30\n",
    "minTime = 4\n",
    "maxTime = 10\n",
    "\n",
    "\n",
    "contaProc = 1\n",
    "tempo = 0\n",
    "\n",
    "#descomente essa linha caso queira que os random sempre dêem o mesmo resultado\n",
    "#random.seed(0)\n",
    "\n",
    "while tempo<maximo or len(escalonador.prontos)>0:\n",
    "    \n",
    "    #Novo processo tem chanceProcesso% de chance surgir enquanto o tempo não chegar no máximo\n",
    "    if(tempo<maximo and random.randint(1,100)<chanceNovoProcesso):\n",
    "        p = Processo('P'+str(contaProc),random.randint(1,chanceIo),random.randint(minTime,maxTime),0,tempo)\n",
    "        print(\"Processo\",p.nome,\" chegou no tempo\",tempo)\n",
    "        escalonador.pronto(p)\n",
    "        contaProc+=1\n",
    "        \n",
    "\n",
    "    p = escalonador.proximo()\n",
    "    \n",
    "    if(p is not None):\n",
    "        rodou, fezio = p.roda(quantum)\n",
    "        if(fezio and p.tam>0):\n",
    "            bloqueados.append([p,tempoBloq+1]) #Adiciona o processo que fez e/s aos bloqueados\n",
    "        elif(p.tam>0):\n",
    "            escalonador.pronto(p)\n",
    "        total-=rodou\n",
    "        tempo+=rodou\n",
    "    else:\n",
    "        #Reduz o tempo de todos os bloqueados em uma unidade\n",
    "        tempo+=1\n",
    "    if(len(bloqueados)>0):\n",
    "        for i in bloqueados:\n",
    "            i[1]-=1\n",
    "            if(i[1] == 0):\n",
    "                escalonador.pronto(i[0])\n",
    "                del i  "
   ]
  },
  {
   "cell_type": "markdown",
   "metadata": {
    "colab_type": "text",
    "id": "l-WBMAKhXJK4"
   },
   "source": [
    "### Laboratório: ###\n",
    "\n",
    "Neste laboratório vocês (em duplas) irão implementar 3 escalonadores:\n",
    "\n",
    "1 - MLFQ: Adicione parâmetros para definir o número de filas, o quantum de cada uma e o tempo de boost.\n",
    "\n",
    "2 - Loteria: tem um atributo `prioridade` no Processo, use ele para definir um número aleatório de bilhetes, similar ao que ocorre com e/s e outros parämetros\n",
    "\n",
    "3 - Stride: Similar ao loteria.\n",
    "\n"
   ]
  },
  {
   "cell_type": "markdown",
   "metadata": {
    "colab_type": "text",
    "id": "G5T25EzaXJK5"
   },
   "source": [
    "## Responda ##\n",
    "\n",
    "#### Sobre Loteria: ####\n",
    "\n",
    "1 - Rode a simulação mais simples com apenas dois processos, um com 100 tickets e outro com 1, com tempo 100 para terminar. O que aconteceu? O segundo processo conseguiu rodar alguma vez? Testando com outras sementes o resultado se manteve?\n",
    "\n",
    "2 - Rode a simulação simples com dois processos com 100 tickets e 100 timeslices. Calcule a Unfairness para quantum=2. Repita a operação para quantum 10, 20, 50 e 100. O que aconteceu?\n",
    "\n",
    "3 - Rode novamente dois processos com 100 tickets no simulador simples e quantum=2. Calcule a unfairness conforme o tamanho dos processos aumenta e faça um gráfico similar ao dos slides.\n",
    "\n",
    "4 - Rode o simulador maior com três tipos de processo possíveis: um com 10 tickets, um com 20 e um com 50. O que aconteceu com os que receberam menos tickets? Eles tiveram chance de rodar?"
   ]
  },
  {
   "cell_type": "code",
   "execution_count": null,
   "metadata": {
    "colab": {},
    "colab_type": "code",
    "id": "BlxysVYbuuDX"
   },
   "outputs": [],
   "source": []
  },
  {
   "cell_type": "markdown",
   "metadata": {},
   "source": [
    "#### Sobre Stride ####\n",
    "\n",
    "1 - Repita o cenário da 2 de loteria e faça um novo gráfico.\n",
    "\n",
    "2 - No simulador maior, qual o efeito que ter muitos processos fazendo E/S tem no algoritmo? O que pode ser feito com a posição do processo quando ele volta de E/S?\n",
    "\n",
    "3 - No simulador maior, rode um cenário igual para stride e loteria (com a mesma semente aleatória) e calcule tempo de resposta, de execução e __tempo de espera__ (tempo que o processo passou pronto). O que mudou entre os dois?"
   ]
  },
  {
   "cell_type": "code",
   "execution_count": null,
   "metadata": {},
   "outputs": [],
   "source": []
  },
  {
   "cell_type": "markdown",
   "metadata": {},
   "source": [
    "#### Sobre MLFQ ####\n",
    "\n",
    "1 - Rode o MLFQ no segundo simulador com duas filas e sem boost. O que aconteceu? \n",
    "\n",
    "2 - Quais configurações de parâmetros transformam o MLFQ no Round Robin?\n",
    "\n",
    "3 - Rodando no primeiro simulador, faça 1 dos quatro processos ser 100\\% CPU-Bound e os outros três 60\\% I/O Bound. Use a configuração com 3 filas, com 5, 3 e 1 timeslices para as fila em ordem de priorida. De quanto tempo deve ser o Boost para que o processo CPU-Bound não sofra starvation e tenha CPU 1 vez a cada 20 timeslices?\n",
    "\n",
    "4 - Teste diversas configurações de número de filas, quantum das filas e boost no simulador maior e ache a que leva ao melhor tempo de execução."
   ]
  },
  {
   "cell_type": "code",
   "execution_count": null,
   "metadata": {},
   "outputs": [],
   "source": []
  }
 ],
 "metadata": {
  "colab": {
   "name": "Laboratório Escalonamento.ipynb",
   "provenance": []
  },
  "kernelspec": {
   "display_name": "Python 3 (ipykernel)",
   "language": "python",
   "name": "python3"
  },
  "language_info": {
   "codemirror_mode": {
    "name": "ipython",
    "version": 3
   },
   "file_extension": ".py",
   "mimetype": "text/x-python",
   "name": "python",
   "nbconvert_exporter": "python",
   "pygments_lexer": "ipython3",
   "version": "3.12.3"
  }
 },
 "nbformat": 4,
 "nbformat_minor": 1
}
